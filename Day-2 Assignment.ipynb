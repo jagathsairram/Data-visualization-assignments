{
 "cells": [
  {
   "cell_type": "markdown",
   "metadata": {},
   "source": [
    "# Assignment-2"
   ]
  },
  {
   "cell_type": "markdown",
   "metadata": {},
   "source": [
    "# Question 1"
   ]
  },
  {
   "cell_type": "code",
   "execution_count": 21,
   "metadata": {},
   "outputs": [],
   "source": [
    "import numpy as np\n",
    "import pandas as pd\n",
    "import matplotlib.pyplot as plt\n",
    "from numpy.random import randn,randint\n",
    "%matplotlib inline"
   ]
  },
  {
   "cell_type": "code",
   "execution_count": 24,
   "metadata": {},
   "outputs": [
    {
     "data": {
      "text/html": [
       "<div>\n",
       "<style scoped>\n",
       "    .dataframe tbody tr th:only-of-type {\n",
       "        vertical-align: middle;\n",
       "    }\n",
       "\n",
       "    .dataframe tbody tr th {\n",
       "        vertical-align: top;\n",
       "    }\n",
       "\n",
       "    .dataframe thead th {\n",
       "        text-align: right;\n",
       "    }\n",
       "</style>\n",
       "<table border=\"1\" class=\"dataframe\">\n",
       "  <thead>\n",
       "    <tr style=\"text-align: right;\">\n",
       "      <th></th>\n",
       "      <th>a</th>\n",
       "      <th>b</th>\n",
       "      <th>c</th>\n",
       "      <th>d</th>\n",
       "    </tr>\n",
       "  </thead>\n",
       "  <tbody>\n",
       "    <tr>\n",
       "      <th>0</th>\n",
       "      <td>-0.460889</td>\n",
       "      <td>-0.067106</td>\n",
       "      <td>0.247962</td>\n",
       "      <td>0.024788</td>\n",
       "    </tr>\n",
       "    <tr>\n",
       "      <th>1</th>\n",
       "      <td>1.211159</td>\n",
       "      <td>-1.209145</td>\n",
       "      <td>0.048683</td>\n",
       "      <td>-0.678860</td>\n",
       "    </tr>\n",
       "    <tr>\n",
       "      <th>2</th>\n",
       "      <td>-0.940843</td>\n",
       "      <td>-1.748167</td>\n",
       "      <td>0.663116</td>\n",
       "      <td>0.319597</td>\n",
       "    </tr>\n",
       "    <tr>\n",
       "      <th>3</th>\n",
       "      <td>0.371722</td>\n",
       "      <td>1.186848</td>\n",
       "      <td>-0.259863</td>\n",
       "      <td>0.344514</td>\n",
       "    </tr>\n",
       "    <tr>\n",
       "      <th>4</th>\n",
       "      <td>0.150100</td>\n",
       "      <td>-1.047599</td>\n",
       "      <td>-1.465881</td>\n",
       "      <td>-0.214510</td>\n",
       "    </tr>\n",
       "    <tr>\n",
       "      <th>5</th>\n",
       "      <td>0.277741</td>\n",
       "      <td>-0.284890</td>\n",
       "      <td>0.465521</td>\n",
       "      <td>-0.691361</td>\n",
       "    </tr>\n",
       "    <tr>\n",
       "      <th>6</th>\n",
       "      <td>0.849941</td>\n",
       "      <td>1.016332</td>\n",
       "      <td>-0.774629</td>\n",
       "      <td>-1.301646</td>\n",
       "    </tr>\n",
       "    <tr>\n",
       "      <th>7</th>\n",
       "      <td>1.198885</td>\n",
       "      <td>0.593371</td>\n",
       "      <td>1.414507</td>\n",
       "      <td>0.921805</td>\n",
       "    </tr>\n",
       "    <tr>\n",
       "      <th>8</th>\n",
       "      <td>1.798113</td>\n",
       "      <td>-0.792151</td>\n",
       "      <td>-0.717058</td>\n",
       "      <td>1.668496</td>\n",
       "    </tr>\n",
       "    <tr>\n",
       "      <th>9</th>\n",
       "      <td>0.901422</td>\n",
       "      <td>0.398195</td>\n",
       "      <td>-0.062129</td>\n",
       "      <td>-0.028056</td>\n",
       "    </tr>\n",
       "  </tbody>\n",
       "</table>\n",
       "</div>"
      ],
      "text/plain": [
       "          a         b         c         d\n",
       "0 -0.460889 -0.067106  0.247962  0.024788\n",
       "1  1.211159 -1.209145  0.048683 -0.678860\n",
       "2 -0.940843 -1.748167  0.663116  0.319597\n",
       "3  0.371722  1.186848 -0.259863  0.344514\n",
       "4  0.150100 -1.047599 -1.465881 -0.214510\n",
       "5  0.277741 -0.284890  0.465521 -0.691361\n",
       "6  0.849941  1.016332 -0.774629 -1.301646\n",
       "7  1.198885  0.593371  1.414507  0.921805\n",
       "8  1.798113 -0.792151 -0.717058  1.668496\n",
       "9  0.901422  0.398195 -0.062129 -0.028056"
      ]
     },
     "execution_count": 24,
     "metadata": {},
     "output_type": "execute_result"
    }
   ],
   "source": [
    "df= pd.DataFrame(randn(10,4),columns=['a','b','c','d'])\n",
    "df"
   ]
  },
  {
   "cell_type": "code",
   "execution_count": 29,
   "metadata": {},
   "outputs": [
    {
     "data": {
      "text/plain": [
       "Text(0, 0.5, 'Y-Axis')"
      ]
     },
     "execution_count": 29,
     "metadata": {},
     "output_type": "execute_result"
    },
    {
     "data": {
      "image/png": "[encoded data removed]",
      "text/plain": [
       "<Figure size 720x720 with 1 Axes>"
      ]
     },
     "metadata": {
      "needs_background": "light"
     },
     "output_type": "display_data"
    }
   ],
   "source": [
    "df.plot(kind='bar',figsize=(10,10))\n",
    "plt.title(\"Bar graph of data frame\",size=25)\n",
    "plt.xlabel(\"X-Axis\",size=15)\n",
    "plt.ylabel(\"Y-Axis\",size=15)"
   ]
  },
  {
   "cell_type": "code",
   "execution_count": null,
   "metadata": {},
   "outputs": [],
   "source": []
  }
 ],
 "metadata": {
  "kernelspec": {
   "display_name": "Python 3",
   "language": "python",
   "name": "python3"
  },
  "language_info": {
   "codemirror_mode": {
    "name": "ipython",
    "version": 3
   },
   "file_extension": ".py",
   "mimetype": "text/x-python",
   "name": "python",
   "nbconvert_exporter": "python",
   "pygments_lexer": "ipython3",
   "version": "3.8.5"
  }
 },
 "nbformat": 4,
 "nbformat_minor": 4
}
